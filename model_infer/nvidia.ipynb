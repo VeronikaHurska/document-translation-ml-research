{
 "cells": [
  {
   "cell_type": "code",
   "execution_count": null,
   "metadata": {},
   "outputs": [],
   "source": [
    "BRANCH = 'r1.21.0'\n",
    "%python -m pip install git+https://github.com/NVIDIA/NeMo.git@$BRANCH#egg=nemo_toolkit[all]"
   ]
  },
  {
   "cell_type": "code",
   "execution_count": null,
   "metadata": {},
   "outputs": [],
   "source": [
    "import nemo\n",
    "import nemo.collections.nlp as nemo_nlp\n",
    "import pandas as pd"
   ]
  },
  {
   "cell_type": "code",
   "execution_count": null,
   "metadata": {},
   "outputs": [],
   "source": [
    "df = pd.read_csv('/content/en_de.csv')"
   ]
  },
  {
   "cell_type": "code",
   "execution_count": null,
   "metadata": {},
   "outputs": [],
   "source": [
    "\n",
    "model = nemo_nlp.models.machine_translation.MTEncDecModel.from_pretrained(model_name=\"nmt_en_de_transformer24x6\")\n"
   ]
  },
  {
   "cell_type": "code",
   "execution_count": null,
   "metadata": {},
   "outputs": [],
   "source": [
    "import pandas as pd\n",
    "\n",
    "\n",
    "\n",
    "def translate(row):\n",
    "    text_to_translate = row['DE']\n",
    "    translations = model.translate([text_to_translate],source_lang=\"de\", target_lang=\"en\")\n",
    "    if isinstance(translations, list):\n",
    "        full_sentences = [sentence for sentence in translations]\n",
    "        print(\"IN CSV \",' '.join(full_sentences))\n",
    "        return ' '.join(full_sentences)\n",
    "\n",
    "\n"
   ]
  },
  {
   "cell_type": "code",
   "execution_count": null,
   "metadata": {},
   "outputs": [],
   "source": [
    "df['TRANSLATION'] = df.apply(translate,axis=1)\n",
    "df.to_csv('nvidia_en_de_result.csv')"
   ]
  }
 ],
 "metadata": {
  "language_info": {
   "name": "python"
  }
 },
 "nbformat": 4,
 "nbformat_minor": 2
}
